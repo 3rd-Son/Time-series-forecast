{
 "cells": [
  {
   "attachments": {},
   "cell_type": "markdown",
   "metadata": {},
   "source": [
    "### Also called naive forecast model"
   ]
  },
  {
   "cell_type": "code",
   "execution_count": 1,
   "metadata": {},
   "outputs": [],
   "source": [
    "import pandas as pd"
   ]
  },
  {
   "cell_type": "code",
   "execution_count": 2,
   "metadata": {},
   "outputs": [],
   "source": [
    "df = pd.read_csv('daily-min-temperatures.csv', parse_dates=[0])"
   ]
  },
  {
   "cell_type": "code",
   "execution_count": 3,
   "metadata": {},
   "outputs": [
    {
     "data": {
      "text/html": [
       "<div>\n",
       "<style scoped>\n",
       "    .dataframe tbody tr th:only-of-type {\n",
       "        vertical-align: middle;\n",
       "    }\n",
       "\n",
       "    .dataframe tbody tr th {\n",
       "        vertical-align: top;\n",
       "    }\n",
       "\n",
       "    .dataframe thead th {\n",
       "        text-align: right;\n",
       "    }\n",
       "</style>\n",
       "<table border=\"1\" class=\"dataframe\">\n",
       "  <thead>\n",
       "    <tr style=\"text-align: right;\">\n",
       "      <th></th>\n",
       "      <th>Date</th>\n",
       "      <th>Temp</th>\n",
       "    </tr>\n",
       "  </thead>\n",
       "  <tbody>\n",
       "    <tr>\n",
       "      <th>0</th>\n",
       "      <td>1981-01-01</td>\n",
       "      <td>20.7</td>\n",
       "    </tr>\n",
       "    <tr>\n",
       "      <th>1</th>\n",
       "      <td>1981-01-02</td>\n",
       "      <td>17.9</td>\n",
       "    </tr>\n",
       "    <tr>\n",
       "      <th>2</th>\n",
       "      <td>1981-01-03</td>\n",
       "      <td>18.8</td>\n",
       "    </tr>\n",
       "    <tr>\n",
       "      <th>3</th>\n",
       "      <td>1981-01-04</td>\n",
       "      <td>14.6</td>\n",
       "    </tr>\n",
       "    <tr>\n",
       "      <th>4</th>\n",
       "      <td>1981-01-05</td>\n",
       "      <td>15.8</td>\n",
       "    </tr>\n",
       "  </tbody>\n",
       "</table>\n",
       "</div>"
      ],
      "text/plain": [
       "        Date  Temp\n",
       "0 1981-01-01  20.7\n",
       "1 1981-01-02  17.9\n",
       "2 1981-01-03  18.8\n",
       "3 1981-01-04  14.6\n",
       "4 1981-01-05  15.8"
      ]
     },
     "execution_count": 3,
     "metadata": {},
     "output_type": "execute_result"
    }
   ],
   "source": [
    "df.head()"
   ]
  },
  {
   "cell_type": "code",
   "execution_count": 4,
   "metadata": {},
   "outputs": [],
   "source": [
    "df['t'] = df['Temp'].shift(1)"
   ]
  },
  {
   "cell_type": "code",
   "execution_count": 9,
   "metadata": {},
   "outputs": [
    {
     "data": {
      "text/plain": [
       "(3650, 3)"
      ]
     },
     "execution_count": 9,
     "metadata": {},
     "output_type": "execute_result"
    }
   ],
   "source": [
    "df.shape"
   ]
  },
  {
   "cell_type": "code",
   "execution_count": 8,
   "metadata": {},
   "outputs": [],
   "source": [
    "train, test = df[1:df.shape[0]-7], df[df.shape[0]-7:]"
   ]
  },
  {
   "cell_type": "code",
   "execution_count": 11,
   "metadata": {},
   "outputs": [],
   "source": [
    "train_X, train_y = train['t'], train['Temp']\n",
    "test_X, test_y = test['t'], test['Temp']"
   ]
  },
  {
   "cell_type": "code",
   "execution_count": 14,
   "metadata": {},
   "outputs": [],
   "source": [
    "predictions = test_X.copy()"
   ]
  },
  {
   "cell_type": "code",
   "execution_count": 15,
   "metadata": {},
   "outputs": [
    {
     "name": "stdout",
     "output_type": "stream",
     "text": [
      "3643    10.0\n",
      "3644    12.9\n",
      "3645    14.6\n",
      "3646    14.0\n",
      "3647    13.6\n",
      "3648    13.5\n",
      "3649    15.7\n",
      "Name: t, dtype: float64\n",
      "3643    12.9\n",
      "3644    14.6\n",
      "3645    14.0\n",
      "3646    13.6\n",
      "3647    13.5\n",
      "3648    15.7\n",
      "3649    13.0\n",
      "Name: Temp, dtype: float64\n"
     ]
    }
   ],
   "source": [
    "print(predictions)\n",
    "print(test_y)"
   ]
  },
  {
   "cell_type": "code",
   "execution_count": 16,
   "metadata": {},
   "outputs": [
    {
     "data": {
      "text/plain": [
       "3.4228571428571413"
      ]
     },
     "execution_count": 16,
     "metadata": {},
     "output_type": "execute_result"
    }
   ],
   "source": [
    "from sklearn.metrics import mean_squared_error\n",
    "mse = mean_squared_error(test_y, predictions)\n",
    "mse"
   ]
  },
  {
   "cell_type": "code",
   "execution_count": 17,
   "metadata": {},
   "outputs": [],
   "source": [
    "import matplotlib.pyplot as plt"
   ]
  },
  {
   "cell_type": "code",
   "execution_count": 18,
   "metadata": {},
   "outputs": [
    {
     "data": {
      "text/plain": [
       "[<matplotlib.lines.Line2D at 0x7f7a482e02e0>]"
      ]
     },
     "execution_count": 18,
     "metadata": {},
     "output_type": "execute_result"
    },
    {
     "data": {
      "image/png": "[encoded data removed]",
      "text/plain": [
       "<Figure size 640x480 with 1 Axes>"
      ]
     },
     "metadata": {},
     "output_type": "display_data"
    }
   ],
   "source": [
    "plt.plot(test_y)\n",
    "plt.plot(predictions, color='red')"
   ]
  },
  {
   "attachments": {},
   "cell_type": "markdown",
   "metadata": {},
   "source": [
    "### We now have to compare the mse value of the naive forcast model to the mse value of other advanced models\n",
    "> If the mse of the naive model is smaller than the mse of the other models we will know that our series is a random walk \n",
    "    and therefore the advanced models couldn't learn anything from the data"
   ]
  },
  {
   "attachments": {},
   "cell_type": "markdown",
   "metadata": {},
   "source": [
    "### ***Autoregression Model***"
   ]
  },
  {
   "cell_type": "code",
   "execution_count": 21,
   "metadata": {},
   "outputs": [],
   "source": [
    "from statsmodels.tsa.ar_model import AutoReg "
   ]
  },
  {
   "cell_type": "code",
   "execution_count": 31,
   "metadata": {},
   "outputs": [],
   "source": [
    "df = pd.read_csv('daily-min-temperatures.csv',index_col=[0], parse_dates=True)"
   ]
  },
  {
   "cell_type": "code",
   "execution_count": 41,
   "metadata": {},
   "outputs": [],
   "source": [
    "X = df.values"
   ]
  },
  {
   "cell_type": "code",
   "execution_count": 32,
   "metadata": {},
   "outputs": [],
   "source": [
    "train, test = df[1:df.shape[0]-7], df[df.shape[0]-7:]"
   ]
  },
  {
   "cell_type": "code",
   "execution_count": 33,
   "metadata": {},
   "outputs": [
    {
     "data": {
      "text/html": [
       "<div>\n",
       "<style scoped>\n",
       "    .dataframe tbody tr th:only-of-type {\n",
       "        vertical-align: middle;\n",
       "    }\n",
       "\n",
       "    .dataframe tbody tr th {\n",
       "        vertical-align: top;\n",
       "    }\n",
       "\n",
       "    .dataframe thead th {\n",
       "        text-align: right;\n",
       "    }\n",
       "</style>\n",
       "<table border=\"1\" class=\"dataframe\">\n",
       "  <thead>\n",
       "    <tr style=\"text-align: right;\">\n",
       "      <th></th>\n",
       "      <th>Temp</th>\n",
       "    </tr>\n",
       "    <tr>\n",
       "      <th>Date</th>\n",
       "      <th></th>\n",
       "    </tr>\n",
       "  </thead>\n",
       "  <tbody>\n",
       "    <tr>\n",
       "      <th>1981-01-02</th>\n",
       "      <td>17.9</td>\n",
       "    </tr>\n",
       "    <tr>\n",
       "      <th>1981-01-03</th>\n",
       "      <td>18.8</td>\n",
       "    </tr>\n",
       "    <tr>\n",
       "      <th>1981-01-04</th>\n",
       "      <td>14.6</td>\n",
       "    </tr>\n",
       "    <tr>\n",
       "      <th>1981-01-05</th>\n",
       "      <td>15.8</td>\n",
       "    </tr>\n",
       "    <tr>\n",
       "      <th>1981-01-06</th>\n",
       "      <td>15.8</td>\n",
       "    </tr>\n",
       "    <tr>\n",
       "      <th>...</th>\n",
       "      <td>...</td>\n",
       "    </tr>\n",
       "    <tr>\n",
       "      <th>1990-12-20</th>\n",
       "      <td>15.4</td>\n",
       "    </tr>\n",
       "    <tr>\n",
       "      <th>1990-12-21</th>\n",
       "      <td>13.1</td>\n",
       "    </tr>\n",
       "    <tr>\n",
       "      <th>1990-12-22</th>\n",
       "      <td>13.2</td>\n",
       "    </tr>\n",
       "    <tr>\n",
       "      <th>1990-12-23</th>\n",
       "      <td>13.9</td>\n",
       "    </tr>\n",
       "    <tr>\n",
       "      <th>1990-12-24</th>\n",
       "      <td>10.0</td>\n",
       "    </tr>\n",
       "  </tbody>\n",
       "</table>\n",
       "<p>3642 rows × 1 columns</p>\n",
       "</div>"
      ],
      "text/plain": [
       "            Temp\n",
       "Date            \n",
       "1981-01-02  17.9\n",
       "1981-01-03  18.8\n",
       "1981-01-04  14.6\n",
       "1981-01-05  15.8\n",
       "1981-01-06  15.8\n",
       "...          ...\n",
       "1990-12-20  15.4\n",
       "1990-12-21  13.1\n",
       "1990-12-22  13.2\n",
       "1990-12-23  13.9\n",
       "1990-12-24  10.0\n",
       "\n",
       "[3642 rows x 1 columns]"
      ]
     },
     "execution_count": 33,
     "metadata": {},
     "output_type": "execute_result"
    }
   ],
   "source": [
    "train"
   ]
  },
  {
   "cell_type": "code",
   "execution_count": 44,
   "metadata": {},
   "outputs": [
    {
     "name": "stderr",
     "output_type": "stream",
     "text": [
      "/Users/appleplay/miniconda3/envs/myenv/lib/python3.10/site-packages/statsmodels/tsa/base/tsa_model.py:471: ValueWarning: A date index has been provided, but it has no associated frequency information and so will be ignored when e.g. forecasting.\n",
      "  self._init_dates(dates, freq)\n"
     ]
    }
   ],
   "source": [
    "model = AutoReg(train, lags=29)\n",
    "model_fit = model.fit()"
   ]
  },
  {
   "cell_type": "code",
   "execution_count": 45,
   "metadata": {},
   "outputs": [
    {
     "data": {
      "text/html": [
       "<table class=\"simpletable\">\n",
       "<caption>AutoReg Model Results</caption>\n",
       "<tr>\n",
       "  <th>Dep. Variable:</th>       <td>Temp</td>       <th>  No. Observations:  </th>   <td>3642</td>   \n",
       "</tr>\n",
       "<tr>\n",
       "  <th>Model:</th>            <td>AutoReg(29)</td>   <th>  Log Likelihood     </th> <td>-8283.622</td>\n",
       "</tr>\n",
       "<tr>\n",
       "  <th>Method:</th>         <td>Conditional MLE</td> <th>  S.D. of innovations</th>   <td>2.396</td>  \n",
       "</tr>\n",
       "<tr>\n",
       "  <th>Date:</th>          <td>Wed, 15 Mar 2023</td> <th>  AIC                </th> <td>16629.245</td>\n",
       "</tr>\n",
       "<tr>\n",
       "  <th>Time:</th>              <td>20:44:41</td>     <th>  BIC                </th> <td>16821.206</td>\n",
       "</tr>\n",
       "<tr>\n",
       "  <th>Sample:</th>               <td>29</td>        <th>  HQIC               </th> <td>16697.643</td>\n",
       "</tr>\n",
       "<tr>\n",
       "  <th></th>                     <td>3642</td>       <th>                     </th>     <td> </td>    \n",
       "</tr>\n",
       "</table>\n",
       "<table class=\"simpletable\">\n",
       "<tr>\n",
       "      <td></td>        <th>coef</th>     <th>std err</th>      <th>z</th>      <th>P>|z|</th>  <th>[0.025</th>    <th>0.975]</th>  \n",
       "</tr>\n",
       "<tr>\n",
       "  <th>const</th>    <td>    0.5575</td> <td>    0.149</td> <td>    3.749</td> <td> 0.000</td> <td>    0.266</td> <td>    0.849</td>\n",
       "</tr>\n",
       "<tr>\n",
       "  <th>Temp.L1</th>  <td>    0.5886</td> <td>    0.017</td> <td>   35.366</td> <td> 0.000</td> <td>    0.556</td> <td>    0.621</td>\n",
       "</tr>\n",
       "<tr>\n",
       "  <th>Temp.L2</th>  <td>   -0.0908</td> <td>    0.019</td> <td>   -4.703</td> <td> 0.000</td> <td>   -0.129</td> <td>   -0.053</td>\n",
       "</tr>\n",
       "<tr>\n",
       "  <th>Temp.L3</th>  <td>    0.0483</td> <td>    0.019</td> <td>    2.491</td> <td> 0.013</td> <td>    0.010</td> <td>    0.086</td>\n",
       "</tr>\n",
       "<tr>\n",
       "  <th>Temp.L4</th>  <td>    0.0401</td> <td>    0.019</td> <td>    2.067</td> <td> 0.039</td> <td>    0.002</td> <td>    0.078</td>\n",
       "</tr>\n",
       "<tr>\n",
       "  <th>Temp.L5</th>  <td>    0.0393</td> <td>    0.019</td> <td>    2.026</td> <td> 0.043</td> <td>    0.001</td> <td>    0.077</td>\n",
       "</tr>\n",
       "<tr>\n",
       "  <th>Temp.L6</th>  <td>    0.0259</td> <td>    0.019</td> <td>    1.337</td> <td> 0.181</td> <td>   -0.012</td> <td>    0.064</td>\n",
       "</tr>\n",
       "<tr>\n",
       "  <th>Temp.L7</th>  <td>    0.0447</td> <td>    0.019</td> <td>    2.301</td> <td> 0.021</td> <td>    0.007</td> <td>    0.083</td>\n",
       "</tr>\n",
       "<tr>\n",
       "  <th>Temp.L8</th>  <td>    0.0128</td> <td>    0.019</td> <td>    0.657</td> <td> 0.511</td> <td>   -0.025</td> <td>    0.051</td>\n",
       "</tr>\n",
       "<tr>\n",
       "  <th>Temp.L9</th>  <td>    0.0374</td> <td>    0.019</td> <td>    1.928</td> <td> 0.054</td> <td>   -0.001</td> <td>    0.075</td>\n",
       "</tr>\n",
       "<tr>\n",
       "  <th>Temp.L10</th> <td>   -0.0008</td> <td>    0.019</td> <td>   -0.042</td> <td> 0.967</td> <td>   -0.039</td> <td>    0.037</td>\n",
       "</tr>\n",
       "<tr>\n",
       "  <th>Temp.L11</th> <td>    0.0048</td> <td>    0.019</td> <td>    0.247</td> <td> 0.805</td> <td>   -0.033</td> <td>    0.043</td>\n",
       "</tr>\n",
       "<tr>\n",
       "  <th>Temp.L12</th> <td>    0.0185</td> <td>    0.019</td> <td>    0.952</td> <td> 0.341</td> <td>   -0.020</td> <td>    0.056</td>\n",
       "</tr>\n",
       "<tr>\n",
       "  <th>Temp.L13</th> <td>    0.0269</td> <td>    0.019</td> <td>    1.387</td> <td> 0.165</td> <td>   -0.011</td> <td>    0.065</td>\n",
       "</tr>\n",
       "<tr>\n",
       "  <th>Temp.L14</th> <td>    0.0006</td> <td>    0.019</td> <td>    0.030</td> <td> 0.976</td> <td>   -0.037</td> <td>    0.039</td>\n",
       "</tr>\n",
       "<tr>\n",
       "  <th>Temp.L15</th> <td>    0.0248</td> <td>    0.019</td> <td>    1.280</td> <td> 0.201</td> <td>   -0.013</td> <td>    0.063</td>\n",
       "</tr>\n",
       "<tr>\n",
       "  <th>Temp.L16</th> <td>    0.0074</td> <td>    0.019</td> <td>    0.382</td> <td> 0.702</td> <td>   -0.031</td> <td>    0.045</td>\n",
       "</tr>\n",
       "<tr>\n",
       "  <th>Temp.L17</th> <td>    0.0099</td> <td>    0.019</td> <td>    0.512</td> <td> 0.609</td> <td>   -0.028</td> <td>    0.048</td>\n",
       "</tr>\n",
       "<tr>\n",
       "  <th>Temp.L18</th> <td>    0.0342</td> <td>    0.019</td> <td>    1.763</td> <td> 0.078</td> <td>   -0.004</td> <td>    0.072</td>\n",
       "</tr>\n",
       "<tr>\n",
       "  <th>Temp.L19</th> <td>   -0.0091</td> <td>    0.019</td> <td>   -0.471</td> <td> 0.638</td> <td>   -0.047</td> <td>    0.029</td>\n",
       "</tr>\n",
       "<tr>\n",
       "  <th>Temp.L20</th> <td>    0.0242</td> <td>    0.019</td> <td>    1.249</td> <td> 0.212</td> <td>   -0.014</td> <td>    0.062</td>\n",
       "</tr>\n",
       "<tr>\n",
       "  <th>Temp.L21</th> <td>    0.0188</td> <td>    0.019</td> <td>    0.969</td> <td> 0.332</td> <td>   -0.019</td> <td>    0.057</td>\n",
       "</tr>\n",
       "<tr>\n",
       "  <th>Temp.L22</th> <td>    0.0122</td> <td>    0.019</td> <td>    0.629</td> <td> 0.529</td> <td>   -0.026</td> <td>    0.050</td>\n",
       "</tr>\n",
       "<tr>\n",
       "  <th>Temp.L23</th> <td>   -0.0186</td> <td>    0.019</td> <td>   -0.958</td> <td> 0.338</td> <td>   -0.057</td> <td>    0.019</td>\n",
       "</tr>\n",
       "<tr>\n",
       "  <th>Temp.L24</th> <td>   -0.0018</td> <td>    0.019</td> <td>   -0.092</td> <td> 0.927</td> <td>   -0.040</td> <td>    0.036</td>\n",
       "</tr>\n",
       "<tr>\n",
       "  <th>Temp.L25</th> <td>    0.0167</td> <td>    0.019</td> <td>    0.865</td> <td> 0.387</td> <td>   -0.021</td> <td>    0.055</td>\n",
       "</tr>\n",
       "<tr>\n",
       "  <th>Temp.L26</th> <td>    0.0198</td> <td>    0.019</td> <td>    1.022</td> <td> 0.307</td> <td>   -0.018</td> <td>    0.058</td>\n",
       "</tr>\n",
       "<tr>\n",
       "  <th>Temp.L27</th> <td>    0.0098</td> <td>    0.019</td> <td>    0.509</td> <td> 0.611</td> <td>   -0.028</td> <td>    0.048</td>\n",
       "</tr>\n",
       "<tr>\n",
       "  <th>Temp.L28</th> <td>    0.0062</td> <td>    0.019</td> <td>    0.323</td> <td> 0.747</td> <td>   -0.032</td> <td>    0.044</td>\n",
       "</tr>\n",
       "<tr>\n",
       "  <th>Temp.L29</th> <td>   -0.0014</td> <td>    0.017</td> <td>   -0.083</td> <td> 0.934</td> <td>   -0.034</td> <td>    0.031</td>\n",
       "</tr>\n",
       "</table>\n",
       "<table class=\"simpletable\">\n",
       "<caption>Roots</caption>\n",
       "<tr>\n",
       "    <td></td>    <th>            Real</th>  <th>         Imaginary</th> <th>         Modulus</th>  <th>        Frequency</th>\n",
       "</tr>\n",
       "<tr>\n",
       "  <th>AR.1</th>  <td>           1.0086</td> <td>          -0.0000j</td> <td>           1.0086</td> <td>          -0.0000</td>\n",
       "</tr>\n",
       "<tr>\n",
       "  <th>AR.2</th>  <td>           1.0824</td> <td>          -0.2720j</td> <td>           1.1160</td> <td>          -0.0392</td>\n",
       "</tr>\n",
       "<tr>\n",
       "  <th>AR.3</th>  <td>           1.0824</td> <td>          +0.2720j</td> <td>           1.1160</td> <td>           0.0392</td>\n",
       "</tr>\n",
       "<tr>\n",
       "  <th>AR.4</th>  <td>           1.0240</td> <td>          -0.4944j</td> <td>           1.1371</td> <td>          -0.0716</td>\n",
       "</tr>\n",
       "<tr>\n",
       "  <th>AR.5</th>  <td>           1.0240</td> <td>          +0.4944j</td> <td>           1.1371</td> <td>           0.0716</td>\n",
       "</tr>\n",
       "<tr>\n",
       "  <th>AR.6</th>  <td>           0.8597</td> <td>          -0.7052j</td> <td>           1.1119</td> <td>          -0.1093</td>\n",
       "</tr>\n",
       "<tr>\n",
       "  <th>AR.7</th>  <td>           0.8597</td> <td>          +0.7052j</td> <td>           1.1119</td> <td>           0.1093</td>\n",
       "</tr>\n",
       "<tr>\n",
       "  <th>AR.8</th>  <td>           0.6624</td> <td>          -0.8816j</td> <td>           1.1027</td> <td>          -0.1474</td>\n",
       "</tr>\n",
       "<tr>\n",
       "  <th>AR.9</th>  <td>           0.6624</td> <td>          +0.8816j</td> <td>           1.1027</td> <td>           0.1474</td>\n",
       "</tr>\n",
       "<tr>\n",
       "  <th>AR.10</th> <td>           0.4267</td> <td>          -1.0357j</td> <td>           1.1202</td> <td>          -0.1878</td>\n",
       "</tr>\n",
       "<tr>\n",
       "  <th>AR.11</th> <td>           0.4267</td> <td>          +1.0357j</td> <td>           1.1202</td> <td>           0.1878</td>\n",
       "</tr>\n",
       "<tr>\n",
       "  <th>AR.12</th> <td>           0.1422</td> <td>          -1.1158j</td> <td>           1.1249</td> <td>          -0.2298</td>\n",
       "</tr>\n",
       "<tr>\n",
       "  <th>AR.13</th> <td>           0.1422</td> <td>          +1.1158j</td> <td>           1.1249</td> <td>           0.2298</td>\n",
       "</tr>\n",
       "<tr>\n",
       "  <th>AR.14</th> <td>          -1.1820</td> <td>          -0.0000j</td> <td>           1.1820</td> <td>          -0.5000</td>\n",
       "</tr>\n",
       "<tr>\n",
       "  <th>AR.15</th> <td>          -1.1424</td> <td>          -0.3458j</td> <td>           1.1936</td> <td>          -0.4532</td>\n",
       "</tr>\n",
       "<tr>\n",
       "  <th>AR.16</th> <td>          -1.1424</td> <td>          +0.3458j</td> <td>           1.1936</td> <td>           0.4532</td>\n",
       "</tr>\n",
       "<tr>\n",
       "  <th>AR.17</th> <td>          -1.2070</td> <td>          -0.5464j</td> <td>           1.3249</td> <td>          -0.4323</td>\n",
       "</tr>\n",
       "<tr>\n",
       "  <th>AR.18</th> <td>          -1.2070</td> <td>          +0.5464j</td> <td>           1.3249</td> <td>           0.4323</td>\n",
       "</tr>\n",
       "<tr>\n",
       "  <th>AR.19</th> <td>          -0.9361</td> <td>          -0.7347j</td> <td>           1.1900</td> <td>          -0.3941</td>\n",
       "</tr>\n",
       "<tr>\n",
       "  <th>AR.20</th> <td>          -0.9361</td> <td>          +0.7347j</td> <td>           1.1900</td> <td>           0.3941</td>\n",
       "</tr>\n",
       "<tr>\n",
       "  <th>AR.21</th> <td>          -0.1901</td> <td>          -1.1471j</td> <td>           1.1628</td> <td>          -0.2761</td>\n",
       "</tr>\n",
       "<tr>\n",
       "  <th>AR.22</th> <td>          -0.1901</td> <td>          +1.1471j</td> <td>           1.1628</td> <td>           0.2761</td>\n",
       "</tr>\n",
       "<tr>\n",
       "  <th>AR.23</th> <td>          -0.7724</td> <td>          -0.9906j</td> <td>           1.2561</td> <td>          -0.3554</td>\n",
       "</tr>\n",
       "<tr>\n",
       "  <th>AR.24</th> <td>          -0.7724</td> <td>          +0.9906j</td> <td>           1.2561</td> <td>           0.3554</td>\n",
       "</tr>\n",
       "<tr>\n",
       "  <th>AR.25</th> <td>          -0.5162</td> <td>          -1.0554j</td> <td>           1.1749</td> <td>          -0.3224</td>\n",
       "</tr>\n",
       "<tr>\n",
       "  <th>AR.26</th> <td>          -0.5162</td> <td>          +1.0554j</td> <td>           1.1749</td> <td>           0.3224</td>\n",
       "</tr>\n",
       "<tr>\n",
       "  <th>AR.27</th> <td>          -0.1464</td> <td>          -1.5687j</td> <td>           1.5755</td> <td>          -0.2648</td>\n",
       "</tr>\n",
       "<tr>\n",
       "  <th>AR.28</th> <td>          -0.1464</td> <td>          +1.5687j</td> <td>           1.5755</td> <td>           0.2648</td>\n",
       "</tr>\n",
       "<tr>\n",
       "  <th>AR.29</th> <td>           6.1211</td> <td>          -0.0000j</td> <td>           6.1211</td> <td>          -0.0000</td>\n",
       "</tr>\n",
       "</table>"
      ],
      "text/plain": [
       "<class 'statsmodels.iolib.summary.Summary'>\n",
       "\"\"\"\n",
       "                            AutoReg Model Results                             \n",
       "==============================================================================\n",
       "Dep. Variable:                   Temp   No. Observations:                 3642\n",
       "Model:                    AutoReg(29)   Log Likelihood               -8283.622\n",
       "Method:               Conditional MLE   S.D. of innovations              2.396\n",
       "Date:                Wed, 15 Mar 2023   AIC                          16629.245\n",
       "Time:                        20:44:41   BIC                          16821.206\n",
       "Sample:                            29   HQIC                         16697.643\n",
       "                                 3642                                         \n",
       "==============================================================================\n",
       "                 coef    std err          z      P>|z|      [0.025      0.975]\n",
       "------------------------------------------------------------------------------\n",
       "const          0.5575      0.149      3.749      0.000       0.266       0.849\n",
       "Temp.L1        0.5886      0.017     35.366      0.000       0.556       0.621\n",
       "Temp.L2       -0.0908      0.019     -4.703      0.000      -0.129      -0.053\n",
       "Temp.L3        0.0483      0.019      2.491      0.013       0.010       0.086\n",
       "Temp.L4        0.0401      0.019      2.067      0.039       0.002       0.078\n",
       "Temp.L5        0.0393      0.019      2.026      0.043       0.001       0.077\n",
       "Temp.L6        0.0259      0.019      1.337      0.181      -0.012       0.064\n",
       "Temp.L7        0.0447      0.019      2.301      0.021       0.007       0.083\n",
       "Temp.L8        0.0128      0.019      0.657      0.511      -0.025       0.051\n",
       "Temp.L9        0.0374      0.019      1.928      0.054      -0.001       0.075\n",
       "Temp.L10      -0.0008      0.019     -0.042      0.967      -0.039       0.037\n",
       "Temp.L11       0.0048      0.019      0.247      0.805      -0.033       0.043\n",
       "Temp.L12       0.0185      0.019      0.952      0.341      -0.020       0.056\n",
       "Temp.L13       0.0269      0.019      1.387      0.165      -0.011       0.065\n",
       "Temp.L14       0.0006      0.019      0.030      0.976      -0.037       0.039\n",
       "Temp.L15       0.0248      0.019      1.280      0.201      -0.013       0.063\n",
       "Temp.L16       0.0074      0.019      0.382      0.702      -0.031       0.045\n",
       "Temp.L17       0.0099      0.019      0.512      0.609      -0.028       0.048\n",
       "Temp.L18       0.0342      0.019      1.763      0.078      -0.004       0.072\n",
       "Temp.L19      -0.0091      0.019     -0.471      0.638      -0.047       0.029\n",
       "Temp.L20       0.0242      0.019      1.249      0.212      -0.014       0.062\n",
       "Temp.L21       0.0188      0.019      0.969      0.332      -0.019       0.057\n",
       "Temp.L22       0.0122      0.019      0.629      0.529      -0.026       0.050\n",
       "Temp.L23      -0.0186      0.019     -0.958      0.338      -0.057       0.019\n",
       "Temp.L24      -0.0018      0.019     -0.092      0.927      -0.040       0.036\n",
       "Temp.L25       0.0167      0.019      0.865      0.387      -0.021       0.055\n",
       "Temp.L26       0.0198      0.019      1.022      0.307      -0.018       0.058\n",
       "Temp.L27       0.0098      0.019      0.509      0.611      -0.028       0.048\n",
       "Temp.L28       0.0062      0.019      0.323      0.747      -0.032       0.044\n",
       "Temp.L29      -0.0014      0.017     -0.083      0.934      -0.034       0.031\n",
       "                                    Roots                                     \n",
       "==============================================================================\n",
       "                   Real          Imaginary           Modulus         Frequency\n",
       "------------------------------------------------------------------------------\n",
       "AR.1             1.0086           -0.0000j            1.0086           -0.0000\n",
       "AR.2             1.0824           -0.2720j            1.1160           -0.0392\n",
       "AR.3             1.0824           +0.2720j            1.1160            0.0392\n",
       "AR.4             1.0240           -0.4944j            1.1371           -0.0716\n",
       "AR.5             1.0240           +0.4944j            1.1371            0.0716\n",
       "AR.6             0.8597           -0.7052j            1.1119           -0.1093\n",
       "AR.7             0.8597           +0.7052j            1.1119            0.1093\n",
       "AR.8             0.6624           -0.8816j            1.1027           -0.1474\n",
       "AR.9             0.6624           +0.8816j            1.1027            0.1474\n",
       "AR.10            0.4267           -1.0357j            1.1202           -0.1878\n",
       "AR.11            0.4267           +1.0357j            1.1202            0.1878\n",
       "AR.12            0.1422           -1.1158j            1.1249           -0.2298\n",
       "AR.13            0.1422           +1.1158j            1.1249            0.2298\n",
       "AR.14           -1.1820           -0.0000j            1.1820           -0.5000\n",
       "AR.15           -1.1424           -0.3458j            1.1936           -0.4532\n",
       "AR.16           -1.1424           +0.3458j            1.1936            0.4532\n",
       "AR.17           -1.2070           -0.5464j            1.3249           -0.4323\n",
       "AR.18           -1.2070           +0.5464j            1.3249            0.4323\n",
       "AR.19           -0.9361           -0.7347j            1.1900           -0.3941\n",
       "AR.20           -0.9361           +0.7347j            1.1900            0.3941\n",
       "AR.21           -0.1901           -1.1471j            1.1628           -0.2761\n",
       "AR.22           -0.1901           +1.1471j            1.1628            0.2761\n",
       "AR.23           -0.7724           -0.9906j            1.2561           -0.3554\n",
       "AR.24           -0.7724           +0.9906j            1.2561            0.3554\n",
       "AR.25           -0.5162           -1.0554j            1.1749           -0.3224\n",
       "AR.26           -0.5162           +1.0554j            1.1749            0.3224\n",
       "AR.27           -0.1464           -1.5687j            1.5755           -0.2648\n",
       "AR.28           -0.1464           +1.5687j            1.5755            0.2648\n",
       "AR.29            6.1211           -0.0000j            6.1211           -0.0000\n",
       "------------------------------------------------------------------------------\n",
       "\"\"\""
      ]
     },
     "execution_count": 45,
     "metadata": {},
     "output_type": "execute_result"
    }
   ],
   "source": [
    "model_fit.summary()"
   ]
  },
  {
   "cell_type": "code",
   "execution_count": 46,
   "metadata": {},
   "outputs": [
    {
     "name": "stderr",
     "output_type": "stream",
     "text": [
      "/Users/appleplay/miniconda3/envs/myenv/lib/python3.10/site-packages/statsmodels/tsa/base/tsa_model.py:834: ValueWarning: No supported index is available. Prediction results will be given with an integer index beginning at `start`.\n",
      "  return get_prediction_index(\n",
      "/Users/appleplay/miniconda3/envs/myenv/lib/python3.10/site-packages/statsmodels/tsa/deterministic.py:302: UserWarning: Only PeriodIndexes, DatetimeIndexes with a frequency set, RangesIndexes, and Index with a unit increment support extending. The index is set will contain the position relative to the data length.\n",
      "  fcast_index = self._extend_index(index, steps, forecast_index)\n"
     ]
    }
   ],
   "source": [
    "pred = model_fit.predict(start=len(train),end=len(train)+len(test)-1)"
   ]
  },
  {
   "cell_type": "code",
   "execution_count": 47,
   "metadata": {},
   "outputs": [
    {
     "data": {
      "text/plain": [
       "3642    11.871275\n",
       "3643    13.053794\n",
       "3644    13.532591\n",
       "3645    13.243126\n",
       "3646    13.091438\n",
       "3647    13.146989\n",
       "3648    13.176153\n",
       "dtype: float64"
      ]
     },
     "execution_count": 47,
     "metadata": {},
     "output_type": "execute_result"
    }
   ],
   "source": [
    "pred"
   ]
  },
  {
   "cell_type": "code",
   "execution_count": 49,
   "metadata": {},
   "outputs": [
    {
     "data": {
      "text/plain": [
       "1.501525231007005"
      ]
     },
     "execution_count": 49,
     "metadata": {},
     "output_type": "execute_result"
    }
   ],
   "source": [
    "from sklearn.metrics import mean_squared_error\n",
    "mse = mean_squared_error(test_y, pred)\n",
    "mse"
   ]
  },
  {
   "cell_type": "code",
   "execution_count": 50,
   "metadata": {},
   "outputs": [
    {
     "data": {
      "text/plain": [
       "[<matplotlib.lines.Line2D at 0x7f7a4ab14430>]"
      ]
     },
     "execution_count": 50,
     "metadata": {},
     "output_type": "execute_result"
    },
    {
     "data": {
      "image/png": "[encoded data removed]",
      "text/plain": [
       "<Figure size 640x480 with 1 Axes>"
      ]
     },
     "metadata": {},
     "output_type": "display_data"
    }
   ],
   "source": [
    "plt.plot(test_y)\n",
    "plt.plot(pred, color='red')"
   ]
  },
  {
   "cell_type": "code",
   "execution_count": 51,
   "metadata": {},
   "outputs": [],
   "source": [
    "import numpy as np"
   ]
  },
  {
   "cell_type": "code",
   "execution_count": 55,
   "metadata": {},
   "outputs": [
    {
     "name": "stdout",
     "output_type": "stream",
     "text": [
      "11.871274847727825\n"
     ]
    },
    {
     "name": "stderr",
     "output_type": "stream",
     "text": [
      "/Users/appleplay/miniconda3/envs/myenv/lib/python3.10/site-packages/statsmodels/tsa/base/tsa_model.py:471: ValueWarning: A date index has been provided, but it has no associated frequency information and so will be ignored when e.g. forecasting.\n",
      "  self._init_dates(dates, freq)\n",
      "/Users/appleplay/miniconda3/envs/myenv/lib/python3.10/site-packages/statsmodels/tsa/base/tsa_model.py:834: ValueWarning: No supported index is available. Prediction results will be given with an integer index beginning at `start`.\n",
      "  return get_prediction_index(\n",
      "/Users/appleplay/miniconda3/envs/myenv/lib/python3.10/site-packages/statsmodels/tsa/deterministic.py:302: UserWarning: Only PeriodIndexes, DatetimeIndexes with a frequency set, RangesIndexes, and Index with a unit increment support extending. The index is set will contain the position relative to the data length.\n",
      "  fcast_index = self._extend_index(index, steps, forecast_index)\n"
     ]
    }
   ],
   "source": [
    "data = train\n",
    "predict = []\n",
    "for t in test:\n",
    "    model = AutoReg(data,lags=29)\n",
    "    model_fit =model.fit()\n",
    "    y = model_fit.predict(start=len(data),end=len(train)+len(test)-1)\n",
    "    print(y.values[0])\n",
    "    predict.append(y.values[0])\n",
    "    data = np.append(data,t)\n",
    "    data = pd.Series(data)\n",
    "    "
   ]
  }
 ],
 "metadata": {
  "kernelspec": {
   "display_name": "myenv",
   "language": "python",
   "name": "python3"
  },
  "language_info": {
   "codemirror_mode": {
    "name": "ipython",
    "version": 3
   },
   "file_extension": ".py",
   "mimetype": "text/x-python",
   "name": "python",
   "nbconvert_exporter": "python",
   "pygments_lexer": "ipython3",
   "version": "3.10.9"
  },
  "orig_nbformat": 4
 },
 "nbformat": 4,
 "nbformat_minor": 2
}
